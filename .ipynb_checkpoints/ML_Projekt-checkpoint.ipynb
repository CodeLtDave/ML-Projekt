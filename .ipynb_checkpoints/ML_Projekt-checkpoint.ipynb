{
 "cells": [
  {
   "cell_type": "markdown",
   "id": "adcc996f",
   "metadata": {},
   "source": [
    "### Datensatz\n",
    "hier werden die Trainingsdaten aus dem csv importiert"
   ]
  },
  {
   "cell_type": "code",
   "execution_count": 1,
   "id": "dd00b5e8",
   "metadata": {},
   "outputs": [
    {
     "data": {
      "text/html": [
       "<div>\n",
       "<style scoped>\n",
       "    .dataframe tbody tr th:only-of-type {\n",
       "        vertical-align: middle;\n",
       "    }\n",
       "\n",
       "    .dataframe tbody tr th {\n",
       "        vertical-align: top;\n",
       "    }\n",
       "\n",
       "    .dataframe thead th {\n",
       "        text-align: right;\n",
       "    }\n",
       "</style>\n",
       "<table border=\"1\" class=\"dataframe\">\n",
       "  <thead>\n",
       "    <tr style=\"text-align: right;\">\n",
       "      <th></th>\n",
       "      <th>transactionId</th>\n",
       "      <th>basket</th>\n",
       "      <th>customerType</th>\n",
       "      <th>totalAmount</th>\n",
       "      <th>returnLabel</th>\n",
       "    </tr>\n",
       "  </thead>\n",
       "  <tbody>\n",
       "    <tr>\n",
       "      <th>0</th>\n",
       "      <td>9534310106</td>\n",
       "      <td>[4, 3, 4]</td>\n",
       "      <td>new</td>\n",
       "      <td>252.0</td>\n",
       "      <td>1</td>\n",
       "    </tr>\n",
       "    <tr>\n",
       "      <th>1</th>\n",
       "      <td>7202594767</td>\n",
       "      <td>[4, 2, 0, 2, 5]</td>\n",
       "      <td>existing</td>\n",
       "      <td>70.0</td>\n",
       "      <td>0</td>\n",
       "    </tr>\n",
       "    <tr>\n",
       "      <th>2</th>\n",
       "      <td>2737331698</td>\n",
       "      <td>[5]</td>\n",
       "      <td>existing</td>\n",
       "      <td>84.0</td>\n",
       "      <td>0</td>\n",
       "    </tr>\n",
       "    <tr>\n",
       "      <th>3</th>\n",
       "      <td>4868011733</td>\n",
       "      <td>[1, 4, 2, 4]</td>\n",
       "      <td>existing</td>\n",
       "      <td>116.0</td>\n",
       "      <td>0</td>\n",
       "    </tr>\n",
       "    <tr>\n",
       "      <th>4</th>\n",
       "      <td>7622406570</td>\n",
       "      <td>[2, 5, 3, 2, 3, 2, 0]</td>\n",
       "      <td>existing</td>\n",
       "      <td>378.0</td>\n",
       "      <td>0</td>\n",
       "    </tr>\n",
       "  </tbody>\n",
       "</table>\n",
       "</div>"
      ],
      "text/plain": [
       "   transactionId                 basket customerType  totalAmount  returnLabel\n",
       "0     9534310106              [4, 3, 4]          new        252.0            1\n",
       "1     7202594767        [4, 2, 0, 2, 5]     existing         70.0            0\n",
       "2     2737331698                    [5]     existing         84.0            0\n",
       "3     4868011733           [1, 4, 2, 4]     existing        116.0            0\n",
       "4     7622406570  [2, 5, 3, 2, 3, 2, 0]     existing        378.0            0"
      ]
     },
     "execution_count": 1,
     "metadata": {},
     "output_type": "execute_result"
    }
   ],
   "source": [
    "import pandas as pd\n",
    "import numpy as np\n",
    "\n",
    "train_raw = pd.read_csv(\"data/train.csv\", sep=';')\n",
    "train_raw.head()"
   ]
  },
  {
   "cell_type": "code",
   "execution_count": 2,
   "id": "0ffa3a17",
   "metadata": {
    "scrolled": true
   },
   "outputs": [],
   "source": [
    "X_train = train_raw[['totalAmount', 'customerType']]\n",
    "y_train = train_raw[\"returnLabel\"]\n",
    "#X_train.head()"
   ]
  },
  {
   "cell_type": "markdown",
   "id": "3cbdb142",
   "metadata": {},
   "source": [
    "### Schritt 2 EDA"
   ]
  },
  {
   "cell_type": "code",
   "execution_count": 3,
   "id": "1e18369f",
   "metadata": {
    "scrolled": false
   },
   "outputs": [
    {
     "data": {
      "text/plain": [
       "<AxesSubplot:>"
      ]
     },
     "execution_count": 3,
     "metadata": {},
     "output_type": "execute_result"
    },
    {
     "data": {
      "image/png": "[encoded data removed]",
      "text/plain": [
       "<Figure size 432x288 with 1 Axes>"
      ]
     },
     "metadata": {
      "needs_background": "light"
     },
     "output_type": "display_data"
    }
   ],
   "source": [
    "train_raw[\"customerType\"].hist()"
   ]
  },
  {
   "cell_type": "code",
   "execution_count": 4,
   "id": "87074949",
   "metadata": {},
   "outputs": [
    {
     "data": {
      "text/plain": [
       "<AxesSubplot:>"
      ]
     },
     "execution_count": 4,
     "metadata": {},
     "output_type": "execute_result"
    },
    {
     "data": {
      "image/png": "[encoded data removed]",
      "text/plain": [
       "<Figure size 432x288 with 1 Axes>"
      ]
     },
     "metadata": {
      "needs_background": "light"
     },
     "output_type": "display_data"
    }
   ],
   "source": [
    "train_raw[\"totalAmount\"].hist()"
   ]
  },
  {
   "cell_type": "code",
   "execution_count": 5,
   "id": "9fcaab7f",
   "metadata": {},
   "outputs": [
    {
     "data": {
      "text/plain": [
       "<AxesSubplot:>"
      ]
     },
     "execution_count": 5,
     "metadata": {},
     "output_type": "execute_result"
    },
    {
     "data": {
      "image/png": "[encoded data removed]",
      "text/plain": [
       "<Figure size 432x288 with 1 Axes>"
      ]
     },
     "metadata": {
      "needs_background": "light"
     },
     "output_type": "display_data"
    }
   ],
   "source": [
    "train_raw[\"returnLabel\"].value_counts().plot(kind=\"bar\")"
   ]
  },
  {
   "cell_type": "code",
   "execution_count": 6,
   "id": "f4c03c62",
   "metadata": {},
   "outputs": [
    {
     "data": {
      "image/png": "[encoded data removed]",
      "text/plain": [
       "<Figure size 432x288 with 1 Axes>"
      ]
     },
     "metadata": {
      "needs_background": "light"
     },
     "output_type": "display_data"
    }
   ],
   "source": [
    "ax = train_raw[[\"returnLabel\", \"customerType\"]].value_counts().plot(kind=\"bar\")"
   ]
  },
  {
   "cell_type": "code",
   "execution_count": 7,
   "id": "8629aaea",
   "metadata": {},
   "outputs": [
    {
     "data": {
      "text/plain": [
       "<AxesSubplot:title={'center':'totalAmount'}, xlabel='[returnLabel]'>"
      ]
     },
     "execution_count": 7,
     "metadata": {},
     "output_type": "execute_result"
    },
    {
     "data": {
      "image/png": "[encoded data removed]",
      "text/plain": [
       "<Figure size 432x288 with 1 Axes>"
      ]
     },
     "metadata": {
      "needs_background": "light"
     },
     "output_type": "display_data"
    }
   ],
   "source": [
    "train_raw[[\"totalAmount\", \"returnLabel\"]].boxplot(by = \"returnLabel\")"
   ]
  },
  {
   "cell_type": "markdown",
   "id": "11fa9289",
   "metadata": {},
   "source": [
    "### Schritt 3 Trainingsdaten auffüllen"
   ]
  },
  {
   "cell_type": "code",
   "execution_count": 8,
   "id": "59e69ee1",
   "metadata": {},
   "outputs": [
    {
     "data": {
      "text/plain": [
       "transactionId      0\n",
       "basket             0\n",
       "customerType     442\n",
       "totalAmount      477\n",
       "returnLabel        0\n",
       "dtype: int64"
      ]
     },
     "execution_count": 8,
     "metadata": {},
     "output_type": "execute_result"
    }
   ],
   "source": [
    "train_raw.isna().sum()"
   ]
  },
  {
   "cell_type": "markdown",
   "id": "b9c8a4da",
   "metadata": {},
   "source": [
    "Fehlende Werte mit dem häufigsten Wert bzw Durchschnitt auffüllen:"
   ]
  },
  {
   "cell_type": "code",
   "execution_count": 9,
   "id": "21708480",
   "metadata": {},
   "outputs": [],
   "source": [
    "pd.options.mode.chained_assignment = None  # avoid slide-copy-warning \n",
    "\n",
    "X_train['customerType'] = X_train['customerType'].fillna('existing')\n",
    "totalAmount_mean = X_train['totalAmount'].mean()\n",
    "X_train['totalAmount'] = X_train['totalAmount'].fillna(totalAmount_mean)"
   ]
  },
  {
   "cell_type": "code",
   "execution_count": 10,
   "id": "e0602815",
   "metadata": {},
   "outputs": [
    {
     "data": {
      "text/plain": [
       "totalAmount     0\n",
       "customerType    0\n",
       "dtype: int64"
      ]
     },
     "execution_count": 10,
     "metadata": {},
     "output_type": "execute_result"
    }
   ],
   "source": [
    "X_train.isna().sum()"
   ]
  },
  {
   "cell_type": "markdown",
   "id": "fffa3c34",
   "metadata": {},
   "source": [
    "### Schritt 4 One-Hot-Encoding"
   ]
  },
  {
   "cell_type": "code",
   "execution_count": 11,
   "id": "43386497",
   "metadata": {},
   "outputs": [
    {
     "data": {
      "text/html": [
       "<div>\n",
       "<style scoped>\n",
       "    .dataframe tbody tr th:only-of-type {\n",
       "        vertical-align: middle;\n",
       "    }\n",
       "\n",
       "    .dataframe tbody tr th {\n",
       "        vertical-align: top;\n",
       "    }\n",
       "\n",
       "    .dataframe thead th {\n",
       "        text-align: right;\n",
       "    }\n",
       "</style>\n",
       "<table border=\"1\" class=\"dataframe\">\n",
       "  <thead>\n",
       "    <tr style=\"text-align: right;\">\n",
       "      <th></th>\n",
       "      <th>existing</th>\n",
       "      <th>new</th>\n",
       "    </tr>\n",
       "  </thead>\n",
       "  <tbody>\n",
       "    <tr>\n",
       "      <th>0</th>\n",
       "      <td>0</td>\n",
       "      <td>1</td>\n",
       "    </tr>\n",
       "    <tr>\n",
       "      <th>1</th>\n",
       "      <td>1</td>\n",
       "      <td>0</td>\n",
       "    </tr>\n",
       "    <tr>\n",
       "      <th>2</th>\n",
       "      <td>1</td>\n",
       "      <td>0</td>\n",
       "    </tr>\n",
       "  </tbody>\n",
       "</table>\n",
       "</div>"
      ],
      "text/plain": [
       "   existing  new\n",
       "0         0    1\n",
       "1         1    0\n",
       "2         1    0"
      ]
     },
     "execution_count": 11,
     "metadata": {},
     "output_type": "execute_result"
    }
   ],
   "source": [
    "onehot_customerType = pd.get_dummies(X_train[\"customerType\"])\n",
    "onehot_customerType.head(3)"
   ]
  },
  {
   "cell_type": "code",
   "execution_count": 12,
   "id": "6beb7677",
   "metadata": {},
   "outputs": [
    {
     "data": {
      "text/html": [
       "<div>\n",
       "<style scoped>\n",
       "    .dataframe tbody tr th:only-of-type {\n",
       "        vertical-align: middle;\n",
       "    }\n",
       "\n",
       "    .dataframe tbody tr th {\n",
       "        vertical-align: top;\n",
       "    }\n",
       "\n",
       "    .dataframe thead th {\n",
       "        text-align: right;\n",
       "    }\n",
       "</style>\n",
       "<table border=\"1\" class=\"dataframe\">\n",
       "  <thead>\n",
       "    <tr style=\"text-align: right;\">\n",
       "      <th></th>\n",
       "      <th>totalAmount</th>\n",
       "      <th>existing</th>\n",
       "      <th>new</th>\n",
       "    </tr>\n",
       "  </thead>\n",
       "  <tbody>\n",
       "    <tr>\n",
       "      <th>0</th>\n",
       "      <td>252.0</td>\n",
       "      <td>0</td>\n",
       "      <td>1</td>\n",
       "    </tr>\n",
       "    <tr>\n",
       "      <th>1</th>\n",
       "      <td>70.0</td>\n",
       "      <td>1</td>\n",
       "      <td>0</td>\n",
       "    </tr>\n",
       "    <tr>\n",
       "      <th>2</th>\n",
       "      <td>84.0</td>\n",
       "      <td>1</td>\n",
       "      <td>0</td>\n",
       "    </tr>\n",
       "    <tr>\n",
       "      <th>3</th>\n",
       "      <td>116.0</td>\n",
       "      <td>1</td>\n",
       "      <td>0</td>\n",
       "    </tr>\n",
       "    <tr>\n",
       "      <th>4</th>\n",
       "      <td>378.0</td>\n",
       "      <td>1</td>\n",
       "      <td>0</td>\n",
       "    </tr>\n",
       "  </tbody>\n",
       "</table>\n",
       "</div>"
      ],
      "text/plain": [
       "   totalAmount  existing  new\n",
       "0        252.0         0    1\n",
       "1         70.0         1    0\n",
       "2         84.0         1    0\n",
       "3        116.0         1    0\n",
       "4        378.0         1    0"
      ]
     },
     "execution_count": 12,
     "metadata": {},
     "output_type": "execute_result"
    }
   ],
   "source": [
    "X_train = pd.concat([X_train, onehot_customerType], axis=1)\n",
    "X_train = X_train.drop([\"customerType\"], axis=1)\n",
    "X_train.head(5)"
   ]
  },
  {
   "cell_type": "markdown",
   "id": "955753af",
   "metadata": {},
   "source": [
    "### Schritt 5 Features für basket entwerfen"
   ]
  },
  {
   "cell_type": "markdown",
   "id": "85f93f7d",
   "metadata": {},
   "source": [
    "#### add features basketCount"
   ]
  },
  {
   "cell_type": "code",
   "execution_count": 13,
   "id": "e2694656",
   "metadata": {},
   "outputs": [],
   "source": [
    "for i in range(6):\n",
    "    columnName = \"basketCount\" + str(i)\n",
    "    X_train[columnName] = train_raw.basket.map(lambda x: x.count(str(i)))\n",
    "#X_train.head()"
   ]
  },
  {
   "cell_type": "markdown",
   "id": "8ff792b4",
   "metadata": {},
   "source": [
    "#### add feature basketSize"
   ]
  },
  {
   "cell_type": "code",
   "execution_count": 14,
   "id": "a478de8c",
   "metadata": {
    "scrolled": false
   },
   "outputs": [],
   "source": [
    "X_train['basketSize'] = X_train['basketCount0'] + X_train['basketCount1'] + X_train['basketCount2'] + X_train['basketCount3'] + X_train['basketCount4'] +X_train['basketCount5']\n",
    "#X_train.head()"
   ]
  },
  {
   "cell_type": "markdown",
   "id": "51e84921",
   "metadata": {},
   "source": [
    "#### add feature averageBookPrice "
   ]
  },
  {
   "cell_type": "code",
   "execution_count": 15,
   "id": "a29efa9e",
   "metadata": {
    "scrolled": false
   },
   "outputs": [
    {
     "data": {
      "text/html": [
       "<div>\n",
       "<style scoped>\n",
       "    .dataframe tbody tr th:only-of-type {\n",
       "        vertical-align: middle;\n",
       "    }\n",
       "\n",
       "    .dataframe tbody tr th {\n",
       "        vertical-align: top;\n",
       "    }\n",
       "\n",
       "    .dataframe thead th {\n",
       "        text-align: right;\n",
       "    }\n",
       "</style>\n",
       "<table border=\"1\" class=\"dataframe\">\n",
       "  <thead>\n",
       "    <tr style=\"text-align: right;\">\n",
       "      <th></th>\n",
       "      <th>totalAmount</th>\n",
       "      <th>existing</th>\n",
       "      <th>new</th>\n",
       "      <th>basketCount0</th>\n",
       "      <th>basketCount1</th>\n",
       "      <th>basketCount2</th>\n",
       "      <th>basketCount3</th>\n",
       "      <th>basketCount4</th>\n",
       "      <th>basketCount5</th>\n",
       "      <th>basketSize</th>\n",
       "      <th>averageBookPrice</th>\n",
       "    </tr>\n",
       "  </thead>\n",
       "  <tbody>\n",
       "    <tr>\n",
       "      <th>0</th>\n",
       "      <td>252.0</td>\n",
       "      <td>0</td>\n",
       "      <td>1</td>\n",
       "      <td>0</td>\n",
       "      <td>0</td>\n",
       "      <td>0</td>\n",
       "      <td>1</td>\n",
       "      <td>2</td>\n",
       "      <td>0</td>\n",
       "      <td>3</td>\n",
       "      <td>84.0</td>\n",
       "    </tr>\n",
       "    <tr>\n",
       "      <th>1</th>\n",
       "      <td>70.0</td>\n",
       "      <td>1</td>\n",
       "      <td>0</td>\n",
       "      <td>1</td>\n",
       "      <td>0</td>\n",
       "      <td>2</td>\n",
       "      <td>0</td>\n",
       "      <td>1</td>\n",
       "      <td>1</td>\n",
       "      <td>5</td>\n",
       "      <td>14.0</td>\n",
       "    </tr>\n",
       "    <tr>\n",
       "      <th>2</th>\n",
       "      <td>84.0</td>\n",
       "      <td>1</td>\n",
       "      <td>0</td>\n",
       "      <td>0</td>\n",
       "      <td>0</td>\n",
       "      <td>0</td>\n",
       "      <td>0</td>\n",
       "      <td>0</td>\n",
       "      <td>1</td>\n",
       "      <td>1</td>\n",
       "      <td>84.0</td>\n",
       "    </tr>\n",
       "    <tr>\n",
       "      <th>3</th>\n",
       "      <td>116.0</td>\n",
       "      <td>1</td>\n",
       "      <td>0</td>\n",
       "      <td>0</td>\n",
       "      <td>1</td>\n",
       "      <td>1</td>\n",
       "      <td>0</td>\n",
       "      <td>2</td>\n",
       "      <td>0</td>\n",
       "      <td>4</td>\n",
       "      <td>29.0</td>\n",
       "    </tr>\n",
       "    <tr>\n",
       "      <th>4</th>\n",
       "      <td>378.0</td>\n",
       "      <td>1</td>\n",
       "      <td>0</td>\n",
       "      <td>1</td>\n",
       "      <td>0</td>\n",
       "      <td>3</td>\n",
       "      <td>2</td>\n",
       "      <td>0</td>\n",
       "      <td>1</td>\n",
       "      <td>7</td>\n",
       "      <td>54.0</td>\n",
       "    </tr>\n",
       "    <tr>\n",
       "      <th>5</th>\n",
       "      <td>80.0</td>\n",
       "      <td>1</td>\n",
       "      <td>0</td>\n",
       "      <td>0</td>\n",
       "      <td>1</td>\n",
       "      <td>0</td>\n",
       "      <td>2</td>\n",
       "      <td>1</td>\n",
       "      <td>0</td>\n",
       "      <td>4</td>\n",
       "      <td>20.0</td>\n",
       "    </tr>\n",
       "    <tr>\n",
       "      <th>6</th>\n",
       "      <td>60.0</td>\n",
       "      <td>1</td>\n",
       "      <td>0</td>\n",
       "      <td>3</td>\n",
       "      <td>1</td>\n",
       "      <td>0</td>\n",
       "      <td>0</td>\n",
       "      <td>1</td>\n",
       "      <td>1</td>\n",
       "      <td>6</td>\n",
       "      <td>10.0</td>\n",
       "    </tr>\n",
       "    <tr>\n",
       "      <th>7</th>\n",
       "      <td>616.0</td>\n",
       "      <td>1</td>\n",
       "      <td>0</td>\n",
       "      <td>0</td>\n",
       "      <td>0</td>\n",
       "      <td>2</td>\n",
       "      <td>0</td>\n",
       "      <td>5</td>\n",
       "      <td>0</td>\n",
       "      <td>7</td>\n",
       "      <td>88.0</td>\n",
       "    </tr>\n",
       "    <tr>\n",
       "      <th>8</th>\n",
       "      <td>100.0</td>\n",
       "      <td>1</td>\n",
       "      <td>0</td>\n",
       "      <td>2</td>\n",
       "      <td>2</td>\n",
       "      <td>1</td>\n",
       "      <td>0</td>\n",
       "      <td>5</td>\n",
       "      <td>0</td>\n",
       "      <td>10</td>\n",
       "      <td>10.0</td>\n",
       "    </tr>\n",
       "    <tr>\n",
       "      <th>9</th>\n",
       "      <td>376.0</td>\n",
       "      <td>0</td>\n",
       "      <td>1</td>\n",
       "      <td>1</td>\n",
       "      <td>2</td>\n",
       "      <td>2</td>\n",
       "      <td>2</td>\n",
       "      <td>1</td>\n",
       "      <td>0</td>\n",
       "      <td>8</td>\n",
       "      <td>47.0</td>\n",
       "    </tr>\n",
       "    <tr>\n",
       "      <th>10</th>\n",
       "      <td>294.0</td>\n",
       "      <td>1</td>\n",
       "      <td>0</td>\n",
       "      <td>0</td>\n",
       "      <td>0</td>\n",
       "      <td>0</td>\n",
       "      <td>2</td>\n",
       "      <td>0</td>\n",
       "      <td>1</td>\n",
       "      <td>3</td>\n",
       "      <td>98.0</td>\n",
       "    </tr>\n",
       "    <tr>\n",
       "      <th>11</th>\n",
       "      <td>1232.0</td>\n",
       "      <td>1</td>\n",
       "      <td>0</td>\n",
       "      <td>0</td>\n",
       "      <td>0</td>\n",
       "      <td>2</td>\n",
       "      <td>5</td>\n",
       "      <td>4</td>\n",
       "      <td>0</td>\n",
       "      <td>11</td>\n",
       "      <td>112.0</td>\n",
       "    </tr>\n",
       "    <tr>\n",
       "      <th>12</th>\n",
       "      <td>84.0</td>\n",
       "      <td>0</td>\n",
       "      <td>1</td>\n",
       "      <td>1</td>\n",
       "      <td>2</td>\n",
       "      <td>0</td>\n",
       "      <td>1</td>\n",
       "      <td>0</td>\n",
       "      <td>2</td>\n",
       "      <td>6</td>\n",
       "      <td>14.0</td>\n",
       "    </tr>\n",
       "    <tr>\n",
       "      <th>13</th>\n",
       "      <td>204.0</td>\n",
       "      <td>0</td>\n",
       "      <td>1</td>\n",
       "      <td>0</td>\n",
       "      <td>0</td>\n",
       "      <td>0</td>\n",
       "      <td>1</td>\n",
       "      <td>1</td>\n",
       "      <td>0</td>\n",
       "      <td>2</td>\n",
       "      <td>102.0</td>\n",
       "    </tr>\n",
       "    <tr>\n",
       "      <th>14</th>\n",
       "      <td>82.0</td>\n",
       "      <td>1</td>\n",
       "      <td>0</td>\n",
       "      <td>1</td>\n",
       "      <td>0</td>\n",
       "      <td>0</td>\n",
       "      <td>0</td>\n",
       "      <td>1</td>\n",
       "      <td>0</td>\n",
       "      <td>2</td>\n",
       "      <td>41.0</td>\n",
       "    </tr>\n",
       "    <tr>\n",
       "      <th>15</th>\n",
       "      <td>616.0</td>\n",
       "      <td>0</td>\n",
       "      <td>1</td>\n",
       "      <td>1</td>\n",
       "      <td>1</td>\n",
       "      <td>0</td>\n",
       "      <td>2</td>\n",
       "      <td>3</td>\n",
       "      <td>0</td>\n",
       "      <td>7</td>\n",
       "      <td>88.0</td>\n",
       "    </tr>\n",
       "    <tr>\n",
       "      <th>16</th>\n",
       "      <td>264.0</td>\n",
       "      <td>1</td>\n",
       "      <td>0</td>\n",
       "      <td>0</td>\n",
       "      <td>0</td>\n",
       "      <td>0</td>\n",
       "      <td>1</td>\n",
       "      <td>1</td>\n",
       "      <td>2</td>\n",
       "      <td>4</td>\n",
       "      <td>66.0</td>\n",
       "    </tr>\n",
       "    <tr>\n",
       "      <th>17</th>\n",
       "      <td>648.0</td>\n",
       "      <td>0</td>\n",
       "      <td>1</td>\n",
       "      <td>2</td>\n",
       "      <td>1</td>\n",
       "      <td>0</td>\n",
       "      <td>2</td>\n",
       "      <td>1</td>\n",
       "      <td>2</td>\n",
       "      <td>8</td>\n",
       "      <td>81.0</td>\n",
       "    </tr>\n",
       "    <tr>\n",
       "      <th>18</th>\n",
       "      <td>497.0</td>\n",
       "      <td>1</td>\n",
       "      <td>0</td>\n",
       "      <td>3</td>\n",
       "      <td>1</td>\n",
       "      <td>0</td>\n",
       "      <td>1</td>\n",
       "      <td>0</td>\n",
       "      <td>2</td>\n",
       "      <td>7</td>\n",
       "      <td>71.0</td>\n",
       "    </tr>\n",
       "    <tr>\n",
       "      <th>19</th>\n",
       "      <td>30.0</td>\n",
       "      <td>1</td>\n",
       "      <td>0</td>\n",
       "      <td>0</td>\n",
       "      <td>1</td>\n",
       "      <td>1</td>\n",
       "      <td>0</td>\n",
       "      <td>1</td>\n",
       "      <td>0</td>\n",
       "      <td>3</td>\n",
       "      <td>10.0</td>\n",
       "    </tr>\n",
       "  </tbody>\n",
       "</table>\n",
       "</div>"
      ],
      "text/plain": [
       "    totalAmount  existing  new  basketCount0  basketCount1  basketCount2  \\\n",
       "0         252.0         0    1             0             0             0   \n",
       "1          70.0         1    0             1             0             2   \n",
       "2          84.0         1    0             0             0             0   \n",
       "3         116.0         1    0             0             1             1   \n",
       "4         378.0         1    0             1             0             3   \n",
       "5          80.0         1    0             0             1             0   \n",
       "6          60.0         1    0             3             1             0   \n",
       "7         616.0         1    0             0             0             2   \n",
       "8         100.0         1    0             2             2             1   \n",
       "9         376.0         0    1             1             2             2   \n",
       "10        294.0         1    0             0             0             0   \n",
       "11       1232.0         1    0             0             0             2   \n",
       "12         84.0         0    1             1             2             0   \n",
       "13        204.0         0    1             0             0             0   \n",
       "14         82.0         1    0             1             0             0   \n",
       "15        616.0         0    1             1             1             0   \n",
       "16        264.0         1    0             0             0             0   \n",
       "17        648.0         0    1             2             1             0   \n",
       "18        497.0         1    0             3             1             0   \n",
       "19         30.0         1    0             0             1             1   \n",
       "\n",
       "    basketCount3  basketCount4  basketCount5  basketSize  averageBookPrice  \n",
       "0              1             2             0           3              84.0  \n",
       "1              0             1             1           5              14.0  \n",
       "2              0             0             1           1              84.0  \n",
       "3              0             2             0           4              29.0  \n",
       "4              2             0             1           7              54.0  \n",
       "5              2             1             0           4              20.0  \n",
       "6              0             1             1           6              10.0  \n",
       "7              0             5             0           7              88.0  \n",
       "8              0             5             0          10              10.0  \n",
       "9              2             1             0           8              47.0  \n",
       "10             2             0             1           3              98.0  \n",
       "11             5             4             0          11             112.0  \n",
       "12             1             0             2           6              14.0  \n",
       "13             1             1             0           2             102.0  \n",
       "14             0             1             0           2              41.0  \n",
       "15             2             3             0           7              88.0  \n",
       "16             1             1             2           4              66.0  \n",
       "17             2             1             2           8              81.0  \n",
       "18             1             0             2           7              71.0  \n",
       "19             0             1             0           3              10.0  "
      ]
     },
     "execution_count": 15,
     "metadata": {},
     "output_type": "execute_result"
    }
   ],
   "source": [
    "X_train['averageBookPrice'] = X_train['totalAmount'] / X_train['basketSize']\n",
    "X_train.head(20)"
   ]
  },
  {
   "cell_type": "markdown",
   "id": "054f39ca",
   "metadata": {},
   "source": [
    "### Schritt 8 Laden der Testdaten"
   ]
  },
  {
   "cell_type": "code",
   "execution_count": 16,
   "id": "06dfa958",
   "metadata": {},
   "outputs": [],
   "source": [
    "test_raw = pd.read_csv(\"data/test.csv\", sep=';')\n",
    "\n",
    "#test_raw.head()"
   ]
  },
  {
   "cell_type": "markdown",
   "id": "f18c0bdd",
   "metadata": {},
   "source": [
    "### Schritt 9 alle leeren Zeilen Entfernen"
   ]
  },
  {
   "cell_type": "code",
   "execution_count": 17,
   "id": "9f462bd4",
   "metadata": {},
   "outputs": [
    {
     "name": "stdout",
     "output_type": "stream",
     "text": [
      "count rows before:  9600\n",
      "count rows before:  9226\n"
     ]
    }
   ],
   "source": [
    "print(\"count rows before: \", test_raw.shape[0])\n",
    "test_raw = test_raw.dropna()\n",
    "print(\"count rows before: \", test_raw.shape[0])"
   ]
  },
  {
   "cell_type": "code",
   "execution_count": 23,
   "id": "ac5548db",
   "metadata": {},
   "outputs": [],
   "source": [
    "X_test = test_raw[['totalAmount', 'customerType']]\n",
    "y_test = test_raw[\"returnLabel\"]\n",
    "\n",
    "#X_test.head()"
   ]
  },
  {
   "cell_type": "markdown",
   "id": "fbd9444a",
   "metadata": {},
   "source": [
    "### Schritt 10 Testdaten wie Trainingsdaten transformieren"
   ]
  },
  {
   "cell_type": "markdown",
   "id": "ddcfca95",
   "metadata": {},
   "source": [
    "#### One-hot-encoding auf customerType anwenden"
   ]
  },
  {
   "cell_type": "code",
   "execution_count": 24,
   "id": "bd87bff5",
   "metadata": {
    "scrolled": true
   },
   "outputs": [],
   "source": [
    "onehot_customerType = pd.get_dummies(X_test[\"customerType\"])\n",
    "\n",
    "X_test = pd.concat([X_test, onehot_customerType], axis=1)\n",
    "X_test = X_test.drop([\"customerType\"], axis=1)\n",
    "\n",
    "#onehot_customerType.head()\n",
    "#X_train.head()"
   ]
  },
  {
   "cell_type": "markdown",
   "id": "7299c45f",
   "metadata": {},
   "source": [
    "#### add features basketCount"
   ]
  },
  {
   "cell_type": "code",
   "execution_count": 25,
   "id": "1b388309",
   "metadata": {},
   "outputs": [],
   "source": [
    "for i in range(6):\n",
    "    columnName = \"basketCount\" + str(i)\n",
    "    X_test[columnName] = test_raw.basket.map(lambda x: x.count(str(i)))\n",
    "#X_test.head()"
   ]
  },
  {
   "cell_type": "markdown",
   "id": "2d7f307d",
   "metadata": {},
   "source": [
    "#### add feature basketSize"
   ]
  },
  {
   "cell_type": "code",
   "execution_count": 26,
   "id": "fedea8bb",
   "metadata": {},
   "outputs": [],
   "source": [
    "X_test['basketSize'] = X_test['basketCount0'] + X_test['basketCount1'] + X_test['basketCount2'] + X_test['basketCount3'] + X_test['basketCount4'] +X_test['basketCount5']\n",
    "#X_test.head()"
   ]
  },
  {
   "cell_type": "markdown",
   "id": "46e01846",
   "metadata": {},
   "source": [
    "#### add feature averageBookPrice"
   ]
  },
  {
   "cell_type": "code",
   "execution_count": 22,
   "id": "9c4b6aba",
   "metadata": {},
   "outputs": [
    {
     "data": {
      "text/html": [
       "<div>\n",
       "<style scoped>\n",
       "    .dataframe tbody tr th:only-of-type {\n",
       "        vertical-align: middle;\n",
       "    }\n",
       "\n",
       "    .dataframe tbody tr th {\n",
       "        vertical-align: top;\n",
       "    }\n",
       "\n",
       "    .dataframe thead th {\n",
       "        text-align: right;\n",
       "    }\n",
       "</style>\n",
       "<table border=\"1\" class=\"dataframe\">\n",
       "  <thead>\n",
       "    <tr style=\"text-align: right;\">\n",
       "      <th></th>\n",
       "      <th>transactionId</th>\n",
       "      <th>totalAmount</th>\n",
       "      <th>existing</th>\n",
       "      <th>new</th>\n",
       "      <th>basketCount0</th>\n",
       "      <th>basketCount1</th>\n",
       "      <th>basketCount2</th>\n",
       "      <th>basketCount3</th>\n",
       "      <th>basketCount4</th>\n",
       "      <th>basketCount5</th>\n",
       "      <th>basketSize</th>\n",
       "      <th>averageBookPrice</th>\n",
       "    </tr>\n",
       "  </thead>\n",
       "  <tbody>\n",
       "    <tr>\n",
       "      <th>0</th>\n",
       "      <td>4132523932</td>\n",
       "      <td>366.0</td>\n",
       "      <td>1</td>\n",
       "      <td>0</td>\n",
       "      <td>0</td>\n",
       "      <td>0</td>\n",
       "      <td>1</td>\n",
       "      <td>3</td>\n",
       "      <td>2</td>\n",
       "      <td>0</td>\n",
       "      <td>6</td>\n",
       "      <td>61.0</td>\n",
       "    </tr>\n",
       "    <tr>\n",
       "      <th>1</th>\n",
       "      <td>8998574539</td>\n",
       "      <td>85.0</td>\n",
       "      <td>1</td>\n",
       "      <td>0</td>\n",
       "      <td>0</td>\n",
       "      <td>0</td>\n",
       "      <td>0</td>\n",
       "      <td>2</td>\n",
       "      <td>2</td>\n",
       "      <td>1</td>\n",
       "      <td>5</td>\n",
       "      <td>17.0</td>\n",
       "    </tr>\n",
       "    <tr>\n",
       "      <th>2</th>\n",
       "      <td>9346688547</td>\n",
       "      <td>275.0</td>\n",
       "      <td>1</td>\n",
       "      <td>0</td>\n",
       "      <td>1</td>\n",
       "      <td>4</td>\n",
       "      <td>2</td>\n",
       "      <td>2</td>\n",
       "      <td>2</td>\n",
       "      <td>0</td>\n",
       "      <td>11</td>\n",
       "      <td>25.0</td>\n",
       "    </tr>\n",
       "    <tr>\n",
       "      <th>3</th>\n",
       "      <td>4533897707</td>\n",
       "      <td>528.0</td>\n",
       "      <td>1</td>\n",
       "      <td>0</td>\n",
       "      <td>1</td>\n",
       "      <td>3</td>\n",
       "      <td>2</td>\n",
       "      <td>1</td>\n",
       "      <td>0</td>\n",
       "      <td>1</td>\n",
       "      <td>8</td>\n",
       "      <td>66.0</td>\n",
       "    </tr>\n",
       "    <tr>\n",
       "      <th>4</th>\n",
       "      <td>3334800500</td>\n",
       "      <td>287.0</td>\n",
       "      <td>1</td>\n",
       "      <td>0</td>\n",
       "      <td>0</td>\n",
       "      <td>1</td>\n",
       "      <td>2</td>\n",
       "      <td>1</td>\n",
       "      <td>1</td>\n",
       "      <td>2</td>\n",
       "      <td>7</td>\n",
       "      <td>41.0</td>\n",
       "    </tr>\n",
       "    <tr>\n",
       "      <th>6</th>\n",
       "      <td>2186728765</td>\n",
       "      <td>609.0</td>\n",
       "      <td>0</td>\n",
       "      <td>1</td>\n",
       "      <td>2</td>\n",
       "      <td>2</td>\n",
       "      <td>1</td>\n",
       "      <td>1</td>\n",
       "      <td>1</td>\n",
       "      <td>0</td>\n",
       "      <td>7</td>\n",
       "      <td>87.0</td>\n",
       "    </tr>\n",
       "    <tr>\n",
       "      <th>7</th>\n",
       "      <td>3199662184</td>\n",
       "      <td>770.0</td>\n",
       "      <td>1</td>\n",
       "      <td>0</td>\n",
       "      <td>1</td>\n",
       "      <td>0</td>\n",
       "      <td>2</td>\n",
       "      <td>3</td>\n",
       "      <td>1</td>\n",
       "      <td>0</td>\n",
       "      <td>7</td>\n",
       "      <td>110.0</td>\n",
       "    </tr>\n",
       "    <tr>\n",
       "      <th>8</th>\n",
       "      <td>5402321657</td>\n",
       "      <td>43.0</td>\n",
       "      <td>1</td>\n",
       "      <td>0</td>\n",
       "      <td>0</td>\n",
       "      <td>0</td>\n",
       "      <td>0</td>\n",
       "      <td>0</td>\n",
       "      <td>0</td>\n",
       "      <td>1</td>\n",
       "      <td>1</td>\n",
       "      <td>43.0</td>\n",
       "    </tr>\n",
       "    <tr>\n",
       "      <th>9</th>\n",
       "      <td>2412583752</td>\n",
       "      <td>50.0</td>\n",
       "      <td>0</td>\n",
       "      <td>1</td>\n",
       "      <td>0</td>\n",
       "      <td>0</td>\n",
       "      <td>0</td>\n",
       "      <td>0</td>\n",
       "      <td>1</td>\n",
       "      <td>0</td>\n",
       "      <td>1</td>\n",
       "      <td>50.0</td>\n",
       "    </tr>\n",
       "    <tr>\n",
       "      <th>10</th>\n",
       "      <td>6514158177</td>\n",
       "      <td>408.0</td>\n",
       "      <td>1</td>\n",
       "      <td>0</td>\n",
       "      <td>2</td>\n",
       "      <td>2</td>\n",
       "      <td>0</td>\n",
       "      <td>2</td>\n",
       "      <td>1</td>\n",
       "      <td>1</td>\n",
       "      <td>8</td>\n",
       "      <td>51.0</td>\n",
       "    </tr>\n",
       "    <tr>\n",
       "      <th>11</th>\n",
       "      <td>9921070173</td>\n",
       "      <td>304.0</td>\n",
       "      <td>1</td>\n",
       "      <td>0</td>\n",
       "      <td>0</td>\n",
       "      <td>0</td>\n",
       "      <td>1</td>\n",
       "      <td>1</td>\n",
       "      <td>2</td>\n",
       "      <td>0</td>\n",
       "      <td>4</td>\n",
       "      <td>76.0</td>\n",
       "    </tr>\n",
       "    <tr>\n",
       "      <th>12</th>\n",
       "      <td>8509628417</td>\n",
       "      <td>120.0</td>\n",
       "      <td>1</td>\n",
       "      <td>0</td>\n",
       "      <td>0</td>\n",
       "      <td>0</td>\n",
       "      <td>0</td>\n",
       "      <td>1</td>\n",
       "      <td>1</td>\n",
       "      <td>0</td>\n",
       "      <td>2</td>\n",
       "      <td>60.0</td>\n",
       "    </tr>\n",
       "    <tr>\n",
       "      <th>13</th>\n",
       "      <td>3314363542</td>\n",
       "      <td>434.0</td>\n",
       "      <td>1</td>\n",
       "      <td>0</td>\n",
       "      <td>1</td>\n",
       "      <td>1</td>\n",
       "      <td>2</td>\n",
       "      <td>0</td>\n",
       "      <td>2</td>\n",
       "      <td>1</td>\n",
       "      <td>7</td>\n",
       "      <td>62.0</td>\n",
       "    </tr>\n",
       "    <tr>\n",
       "      <th>14</th>\n",
       "      <td>9102536054</td>\n",
       "      <td>205.0</td>\n",
       "      <td>1</td>\n",
       "      <td>0</td>\n",
       "      <td>1</td>\n",
       "      <td>0</td>\n",
       "      <td>0</td>\n",
       "      <td>1</td>\n",
       "      <td>1</td>\n",
       "      <td>2</td>\n",
       "      <td>5</td>\n",
       "      <td>41.0</td>\n",
       "    </tr>\n",
       "    <tr>\n",
       "      <th>15</th>\n",
       "      <td>8394537850</td>\n",
       "      <td>130.0</td>\n",
       "      <td>1</td>\n",
       "      <td>0</td>\n",
       "      <td>1</td>\n",
       "      <td>1</td>\n",
       "      <td>0</td>\n",
       "      <td>1</td>\n",
       "      <td>1</td>\n",
       "      <td>1</td>\n",
       "      <td>5</td>\n",
       "      <td>26.0</td>\n",
       "    </tr>\n",
       "    <tr>\n",
       "      <th>16</th>\n",
       "      <td>8812545928</td>\n",
       "      <td>78.0</td>\n",
       "      <td>0</td>\n",
       "      <td>1</td>\n",
       "      <td>0</td>\n",
       "      <td>1</td>\n",
       "      <td>0</td>\n",
       "      <td>0</td>\n",
       "      <td>1</td>\n",
       "      <td>1</td>\n",
       "      <td>3</td>\n",
       "      <td>26.0</td>\n",
       "    </tr>\n",
       "    <tr>\n",
       "      <th>17</th>\n",
       "      <td>8125796712</td>\n",
       "      <td>546.0</td>\n",
       "      <td>1</td>\n",
       "      <td>0</td>\n",
       "      <td>0</td>\n",
       "      <td>1</td>\n",
       "      <td>0</td>\n",
       "      <td>1</td>\n",
       "      <td>4</td>\n",
       "      <td>0</td>\n",
       "      <td>6</td>\n",
       "      <td>91.0</td>\n",
       "    </tr>\n",
       "    <tr>\n",
       "      <th>18</th>\n",
       "      <td>8864192738</td>\n",
       "      <td>300.0</td>\n",
       "      <td>0</td>\n",
       "      <td>1</td>\n",
       "      <td>1</td>\n",
       "      <td>0</td>\n",
       "      <td>1</td>\n",
       "      <td>0</td>\n",
       "      <td>2</td>\n",
       "      <td>0</td>\n",
       "      <td>4</td>\n",
       "      <td>75.0</td>\n",
       "    </tr>\n",
       "    <tr>\n",
       "      <th>19</th>\n",
       "      <td>9014789703</td>\n",
       "      <td>102.0</td>\n",
       "      <td>1</td>\n",
       "      <td>0</td>\n",
       "      <td>0</td>\n",
       "      <td>0</td>\n",
       "      <td>0</td>\n",
       "      <td>0</td>\n",
       "      <td>1</td>\n",
       "      <td>0</td>\n",
       "      <td>1</td>\n",
       "      <td>102.0</td>\n",
       "    </tr>\n",
       "    <tr>\n",
       "      <th>20</th>\n",
       "      <td>3693861930</td>\n",
       "      <td>14.0</td>\n",
       "      <td>1</td>\n",
       "      <td>0</td>\n",
       "      <td>0</td>\n",
       "      <td>0</td>\n",
       "      <td>0</td>\n",
       "      <td>1</td>\n",
       "      <td>0</td>\n",
       "      <td>0</td>\n",
       "      <td>1</td>\n",
       "      <td>14.0</td>\n",
       "    </tr>\n",
       "  </tbody>\n",
       "</table>\n",
       "</div>"
      ],
      "text/plain": [
       "    transactionId  totalAmount  existing  new  basketCount0  basketCount1  \\\n",
       "0      4132523932        366.0         1    0             0             0   \n",
       "1      8998574539         85.0         1    0             0             0   \n",
       "2      9346688547        275.0         1    0             1             4   \n",
       "3      4533897707        528.0         1    0             1             3   \n",
       "4      3334800500        287.0         1    0             0             1   \n",
       "6      2186728765        609.0         0    1             2             2   \n",
       "7      3199662184        770.0         1    0             1             0   \n",
       "8      5402321657         43.0         1    0             0             0   \n",
       "9      2412583752         50.0         0    1             0             0   \n",
       "10     6514158177        408.0         1    0             2             2   \n",
       "11     9921070173        304.0         1    0             0             0   \n",
       "12     8509628417        120.0         1    0             0             0   \n",
       "13     3314363542        434.0         1    0             1             1   \n",
       "14     9102536054        205.0         1    0             1             0   \n",
       "15     8394537850        130.0         1    0             1             1   \n",
       "16     8812545928         78.0         0    1             0             1   \n",
       "17     8125796712        546.0         1    0             0             1   \n",
       "18     8864192738        300.0         0    1             1             0   \n",
       "19     9014789703        102.0         1    0             0             0   \n",
       "20     3693861930         14.0         1    0             0             0   \n",
       "\n",
       "    basketCount2  basketCount3  basketCount4  basketCount5  basketSize  \\\n",
       "0              1             3             2             0           6   \n",
       "1              0             2             2             1           5   \n",
       "2              2             2             2             0          11   \n",
       "3              2             1             0             1           8   \n",
       "4              2             1             1             2           7   \n",
       "6              1             1             1             0           7   \n",
       "7              2             3             1             0           7   \n",
       "8              0             0             0             1           1   \n",
       "9              0             0             1             0           1   \n",
       "10             0             2             1             1           8   \n",
       "11             1             1             2             0           4   \n",
       "12             0             1             1             0           2   \n",
       "13             2             0             2             1           7   \n",
       "14             0             1             1             2           5   \n",
       "15             0             1             1             1           5   \n",
       "16             0             0             1             1           3   \n",
       "17             0             1             4             0           6   \n",
       "18             1             0             2             0           4   \n",
       "19             0             0             1             0           1   \n",
       "20             0             1             0             0           1   \n",
       "\n",
       "    averageBookPrice  \n",
       "0               61.0  \n",
       "1               17.0  \n",
       "2               25.0  \n",
       "3               66.0  \n",
       "4               41.0  \n",
       "6               87.0  \n",
       "7              110.0  \n",
       "8               43.0  \n",
       "9               50.0  \n",
       "10              51.0  \n",
       "11              76.0  \n",
       "12              60.0  \n",
       "13              62.0  \n",
       "14              41.0  \n",
       "15              26.0  \n",
       "16              26.0  \n",
       "17              91.0  \n",
       "18              75.0  \n",
       "19             102.0  \n",
       "20              14.0  "
      ]
     },
     "execution_count": 22,
     "metadata": {},
     "output_type": "execute_result"
    }
   ],
   "source": [
    "X_test['averageBookPrice'] = X_test['totalAmount'] / X_test['basketSize']\n",
    "X_test.head(20)"
   ]
  },
  {
   "cell_type": "markdown",
   "id": "a6e1a47b",
   "metadata": {},
   "source": [
    "### Schritt 11 Testdaten wir Trainingsdaten skalieren"
   ]
  },
  {
   "cell_type": "code",
   "execution_count": null,
   "id": "87b6a25e",
   "metadata": {},
   "outputs": [],
   "source": []
  },
  {
   "cell_type": "code",
   "execution_count": null,
   "id": "29ec9616",
   "metadata": {},
   "outputs": [],
   "source": []
  }
 ],
 "metadata": {
  "kernelspec": {
   "display_name": "Python 3 (ipykernel)",
   "language": "python",
   "name": "python3"
  },
  "language_info": {
   "codemirror_mode": {
    "name": "ipython",
    "version": 3
   },
   "file_extension": ".py",
   "mimetype": "text/x-python",
   "name": "python",
   "nbconvert_exporter": "python",
   "pygments_lexer": "ipython3",
   "version": "3.9.7"
  }
 },
 "nbformat": 4,
 "nbformat_minor": 5
}
